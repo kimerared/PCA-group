{
  "cells": [
    {
      "cell_type": "raw",
      "metadata": {},
      "source": [
        "---\n",
        "title: PCA-initial-preview\n",
        "author: Hector Gavilanes\n",
        "format: html\n",
        "editor: visual\n",
        "---"
      ],
      "id": "9c81a020"
    },
    {
      "cell_type": "markdown",
      "metadata": {},
      "source": [
        "## Quarto\n",
        "\n",
        "Quarto enables you to weave together content and executable code into a finished document. To learn more about Quarto see <https://quarto.org>.\n",
        "\n",
        "## Running Code\n",
        "\n",
        "When you click the **Render** button a document will be generated that includes both content and the output of embedded code. You can embed code like this:\n"
      ],
      "id": "9e52b5e9"
    },
    {
      "cell_type": "code",
      "metadata": {},
      "source": [
        "1 + 1"
      ],
      "id": "f9ca7d01",
      "execution_count": null,
      "outputs": []
    },
    {
      "cell_type": "markdown",
      "metadata": {},
      "source": [
        "You can add options to executable code like this\n"
      ],
      "id": "7cd7bb72"
    },
    {
      "cell_type": "code",
      "metadata": {},
      "source": [
        "#| echo: false\n",
        "2 * 2"
      ],
      "id": "5758bad9",
      "execution_count": null,
      "outputs": []
    },
    {
      "cell_type": "markdown",
      "metadata": {},
      "source": [
        "The `echo: false` option disables the printing of code (only output is displayed).\n",
        "\n",
        "# Importing the dataset\n",
        "\n",
        "## Libraries\n"
      ],
      "id": "d428536b"
    },
    {
      "cell_type": "code",
      "metadata": {},
      "source": [
        "import numpy as np\n",
        "import pandas as pd\n",
        "pd.set_option('display.max_columns', 150) # displays all columns"
      ],
      "id": "c8ed8af3",
      "execution_count": null,
      "outputs": []
    },
    {
      "cell_type": "markdown",
      "metadata": {},
      "source": [
        "## Dataset\n"
      ],
      "id": "b1534b88"
    },
    {
      "cell_type": "code",
      "metadata": {},
      "source": [
        "# Load the CSV file \n",
        "train_original = pd.read_csv('2023_Hospital_Data_Coverage_Report.csv')"
      ],
      "id": "540fb87d",
      "execution_count": null,
      "outputs": []
    },
    {
      "cell_type": "markdown",
      "metadata": {},
      "source": [
        "## 02 - Data Prepartion\n"
      ],
      "id": "719bc84f"
    },
    {
      "cell_type": "code",
      "metadata": {},
      "source": [
        "# Create a working copy of the original DataFrame\n",
        "train_data = train_original.copy()\n",
        "\n",
        "# Print basic dataset info\n",
        "train_data.info()"
      ],
      "id": "8d5a9f94",
      "execution_count": null,
      "outputs": []
    },
    {
      "cell_type": "code",
      "metadata": {},
      "source": [
        "# Drop null records\n",
        "train_data = train_data.dropna()\n",
        "\n",
        "# Drop unecessary features\n",
        "#train_data = train_data.drop(['ID'], axis=1)\n",
        "\n",
        "# Check for null values\n",
        "train_data.isnull().sum()"
      ],
      "id": "19c5ce63",
      "execution_count": null,
      "outputs": []
    }
  ],
  "metadata": {
    "kernelspec": {
      "display_name": "Python 3",
      "language": "python",
      "name": "python3"
    }
  },
  "nbformat": 4,
  "nbformat_minor": 5
}